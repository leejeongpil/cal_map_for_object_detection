{
 "cells": [
  {
   "cell_type": "code",
   "execution_count": 1,
   "metadata": {},
   "outputs": [],
   "source": [
    "import os\n",
    "import glob\n",
    "import shutil\n",
    "import numpy as np\n",
    "import matplotlib.pyplot as plt\n",
    "from sklearn import metrics"
   ]
  },
  {
   "cell_type": "code",
   "execution_count": 36,
   "metadata": {},
   "outputs": [],
   "source": [
    "iou_thresh_hold = 0.5 #FIX ME"
   ]
  },
  {
   "cell_type": "code",
   "execution_count": 2,
   "metadata": {},
   "outputs": [],
   "source": [
    "def extract_detection_info(paths):\n",
    "    list_info=[]\n",
    "    for path in paths:\n",
    "        img_name = path.split('/')[-1].split('.')[0]\n",
    "    \n",
    "        with open(path) as f:\n",
    "            img_boxes = f.readlines()\n",
    "    \n",
    "        for box in img_boxes:\n",
    "            box_split = box.split(' ')\n",
    "        \n",
    "            category = box_split[0]\n",
    "            score = box_split[1]\n",
    "            xmin = box_split[2]\n",
    "            ymin = box_split[3]\n",
    "            xmax = box_split[4]\n",
    "            ymax = box_split[5].replace('\\n','')\n",
    "            list_info.append([img_name, category, score, xmin, ymin, xmax, ymax])\n",
    "    \n",
    "    return list_info\n",
    "\n",
    "def extract_groundtruth_info(paths):\n",
    "    list_info=[]\n",
    "    for path in paths:\n",
    "        img_name = path.split('/')[-1].split('.')[0]\n",
    "    \n",
    "        with open(path) as f:\n",
    "            img_boxes = f.readlines()\n",
    "    \n",
    "        for box in img_boxes:\n",
    "            box_split = box.split(' ')\n",
    "        \n",
    "            category = box_split[0]\n",
    "            xmin = box_split[1]\n",
    "            ymin = box_split[2]\n",
    "            xmax = box_split[3]\n",
    "            ymax = box_split[4].replace('\\n','')\n",
    "            list_info.append([img_name, category, xmin, ymin, xmax, ymax])\n",
    "    \n",
    "    return list_info"
   ]
  },
  {
   "cell_type": "code",
   "execution_count": 3,
   "metadata": {},
   "outputs": [],
   "source": [
    "def classified_by_class(list_boxex_info, class_names):\n",
    "    dict_classified_by_class = {}\n",
    "    \n",
    "    for class_name in class_names:\n",
    "        dict_classified_by_class[class_name]=[]\n",
    "        for box_info in list_boxex_info:\n",
    "            if box_info[1]==class_name:\n",
    "                dict_classified_by_class[class_name].append(box_info)\n",
    "    \n",
    "    return dict_classified_by_class"
   ]
  },
  {
   "cell_type": "code",
   "execution_count": 28,
   "metadata": {},
   "outputs": [],
   "source": [
    "def data_distribution(dict_classified_by_class, class_names):\n",
    "    x=[]\n",
    "    y=[]\n",
    "    for class_name in class_names:\n",
    "        x.append(class_name)\n",
    "        y.append(len(dict_classified_by_class[class_name]))\n",
    "        print(\"{}: {}\".format(class_name, len(dict_classified_by_class[class_name])))\n",
    "    \n",
    "    \n",
    "    fig = plt.figure(figsize=(10, 10))\n",
    "    pos = np.arange(len(class_names))\n",
    "    rects = plt.bar(pos, y, align='center')\n",
    "    plt.xticks(pos, x)\n",
    "    plt.title(\"data distribution\")\n",
    "    plt.xlabel(\"class\")\n",
    "    plt.ylabel(\"count\")\n",
    "    plt.legend()\n",
    "    fig.savefig(\"./results_jp/{}.png\".format('data_distribution'))\n",
    "#     plt.show()\n",
    "    \n",
    "    return print(\"plot save\")\n",
    "    "
   ]
  },
  {
   "cell_type": "code",
   "execution_count": 5,
   "metadata": {},
   "outputs": [],
   "source": [
    "def sort_by_score_detection(dict_classified_by_class, class_names):\n",
    "    sort_classified_by_class = {}\n",
    "    for class_name in class_names:\n",
    "        classify_by_class = dict_classified_by_class[class_name]\n",
    "        extract_score = []\n",
    "        sort_list = []\n",
    "        \n",
    "        for i in range(len(classify_by_class)):\n",
    "            extract_score.append(classify_by_class[i][2])\n",
    "        \n",
    "        arr_extract_score = np.asarray(extract_score)\n",
    "        arr_sort_score = np.argsort(arr_extract_score)\n",
    "        \n",
    "        for i in range(len(arr_sort_score)):\n",
    "            sort_list.append(classify_by_class[arr_sort_score[i]])\n",
    "        \n",
    "        sort_classified_by_class[class_name] =  sort_list\n",
    "        #dict_classified_by_class[]\n",
    "    return sort_classified_by_class\n",
    "    \n",
    "    "
   ]
  },
  {
   "cell_type": "code",
   "execution_count": 6,
   "metadata": {},
   "outputs": [],
   "source": [
    "def iou(b1, b2):\n",
    "\n",
    "    intersection_w = max(0, min(b1[2], b2[2]) - max(b1[0], b2[0]) + 1)\n",
    "    if intersection_w == 0:\n",
    "        return 0\n",
    "    intersection_h = max(0, min(b1[3], b2[3]) - max(b1[1], b2[1]) + 1)\n",
    "    if intersection_h == 0:\n",
    "        return 0\n",
    "    intersection = intersection_w * intersection_h\n",
    "\n",
    "    union = (b1[2]-b1[0]+1) * (b1[3]-b1[1]+1) + (b2[2]-b2[0]+1) * (b2[3]-b2[1]+1) - intersection\n",
    "\n",
    "    if union == 0:\n",
    "        raise ValueError('Union value must not be a zero or negative number. (boxes: {}, {})'.format(b1, b2))\n",
    "\n",
    "    return intersection / union"
   ]
  },
  {
   "cell_type": "code",
   "execution_count": 31,
   "metadata": {},
   "outputs": [],
   "source": [
    "def cal_ap(detection, groundtruth, class_names):\n",
    "    dict_ap = {}\n",
    "    all_true_predict=0\n",
    "    all_predict=0\n",
    "    all_actual=0\n",
    "#     class_names=['car']\n",
    "    for class_name in class_names:\n",
    "        dict_ap[class_name]=[]\n",
    "        \n",
    "        true_predict = 0\n",
    "        predict = 0\n",
    "        actual = 0\n",
    "        \n",
    "        class_detection = detection[class_name]\n",
    "        class_groundtruth = groundtruth[class_name]\n",
    "        \n",
    "        actual = len(class_groundtruth)\n",
    "        all_actual += len(class_groundtruth)\n",
    "        for i in range(len(class_detection)):\n",
    "            recall=0        \n",
    "            precision=1\n",
    "            if predict==0:\n",
    "                precision=0\n",
    "            else:\n",
    "                precision=true_predict/predict\n",
    "            recall=true_predict/actual\n",
    "        \n",
    "            dict_ap[class_name].append([recall, precision])\n",
    "            \n",
    "            predict += 1\n",
    "            all_predict += 1\n",
    "            \n",
    "            last_index = len(class_detection)-1\n",
    "            \n",
    "            img_name=class_detection[last_index-i][0]\n",
    "            \n",
    "            xmin=float(class_detection[last_index-i][3])\n",
    "            ymin=float(class_detection[last_index-i][4])\n",
    "            xmax=float(class_detection[last_index-i][5])\n",
    "            ymax=float(class_detection[last_index-i][6])\n",
    "            \n",
    "            detection_bbox = [xmin, ymin, xmax, ymax]\n",
    "            \n",
    "            for j in range(len(class_groundtruth)):\n",
    "                if class_groundtruth[j][0]==img_name:\n",
    "                \n",
    "                    x_min=float(class_groundtruth[j][2])\n",
    "                    y_min=float(class_groundtruth[j][3])\n",
    "                    x_max=float(class_groundtruth[j][4])\n",
    "                    y_max=float(class_groundtruth[j][5])\n",
    "            \n",
    "                    groundtruth_bbox = [x_min, y_min, x_max, y_max]     \n",
    "                \n",
    "                    if iou(detection_bbox, groundtruth_bbox) >= iou_thresh_hold:\n",
    "                        true_predict += 1\n",
    "                        all_true_predict += 1\n",
    "                        break         \n",
    "        print(class_name, true_predict, predict, actual)\n",
    "    print(all_true_predict, all_predict, all_actual)\n",
    "    return dict_ap"
   ]
  },
  {
   "cell_type": "code",
   "execution_count": 8,
   "metadata": {},
   "outputs": [],
   "source": [
    "def make_plot(result_cal_ap, class_name):\n",
    "    x=[0]\n",
    "    y=[1]\n",
    "    \n",
    "    for i in range(len(result_cal_ap)-1):\n",
    "        x.append(result_cal_ap[i+1][0])\n",
    "        y.append(result_cal_ap[i+1][1])\n",
    "    \n",
    "    fig = plt.figure(figsize=(10, 10))\n",
    "    plt.plot(x, y, label=class_name)\n",
    "    plt.title(\"AP : {}\".format(class_name))\n",
    "    plt.xlabel(\"recall\")\n",
    "    plt.ylabel(\"precision\")\n",
    "    plt.legend()\n",
    "    fig.savefig(\"./results_jp/{}.png\".format(class_name))\n",
    "#     plt.show()\n",
    "    \n",
    "    return print(\"plot save\")\n",
    "    \n",
    "    "
   ]
  },
  {
   "cell_type": "code",
   "execution_count": 9,
   "metadata": {},
   "outputs": [],
   "source": [
    "def cal_area_practice1(result_cal_ap, class_name):\n",
    "    x=[0]\n",
    "    y=[1]\n",
    "    \n",
    "    for i in range(len(result_cal_ap)-1):\n",
    "        x.append(result_cal_ap[i+1][0])\n",
    "        y.append(result_cal_ap[i+1][1])\n",
    "\n",
    "    sum_area=0\n",
    "    max_y=0\n",
    "    index=0\n",
    "    index2=0\n",
    "    for i in range(len(x)):\n",
    "        if y[i]>=max_y:\n",
    "            max_y=y[i]\n",
    "            index=i\n",
    "        else:\n",
    "            \n",
    "            sum_area+=max_y*(x[index]-x[index2])\n",
    "            index2=index\n",
    "            max_y=y[i]\n",
    "            index = i\n",
    "    print(\"{}: {}\".format(class_name, sum_area))"
   ]
  },
  {
   "cell_type": "code",
   "execution_count": 10,
   "metadata": {},
   "outputs": [],
   "source": [
    "def cal_area(result_cal_ap, class_name):\n",
    "    x=[0]\n",
    "    y=[1]\n",
    "    \n",
    "    for i in range(len(result_cal_ap)-1):\n",
    "        x.append(result_cal_ap[i+1][0])\n",
    "        y.append(result_cal_ap[i+1][1])\n",
    "        \n",
    "    sum_area=0\n",
    "    max_y=0\n",
    "    index=0\n",
    "    index2=0\n",
    "    for i in range(len(x)-1):\n",
    "        w = x[i+1]-x[i]\n",
    "        h = y[i+1]\n",
    "        \n",
    "        sum_area+=w*h\n",
    "    print(\"{}: {}\".format(class_name, sum_area))\n",
    "    return sum_area"
   ]
  },
  {
   "cell_type": "code",
   "execution_count": 11,
   "metadata": {},
   "outputs": [],
   "source": []
  },
  {
   "cell_type": "code",
   "execution_count": 12,
   "metadata": {},
   "outputs": [],
   "source": [
    "detection_save_path = os.path.join(os.getcwd(), 'detections')\n",
    "groundtruth_save_path = os.path.join(os.getcwd(), 'groundtruths')"
   ]
  },
  {
   "cell_type": "code",
   "execution_count": 13,
   "metadata": {},
   "outputs": [],
   "source": [
    "detection_info_paths = glob.glob(detection_save_path+'/*.txt')\n",
    "groundtruth_info_paths = glob.glob(groundtruth_save_path+'/*.txt')"
   ]
  },
  {
   "cell_type": "code",
   "execution_count": 14,
   "metadata": {},
   "outputs": [
    {
     "name": "stdout",
     "output_type": "stream",
     "text": [
      "['/home/intern/workspace/jp_workspace/Object-Detection-Metrics/detections/b62279e2-257b5cc0.txt', '/home/intern/workspace/jp_workspace/Object-Detection-Metrics/detections/be0a188d-c47bac51.txt', '/home/intern/workspace/jp_workspace/Object-Detection-Metrics/detections/b7a8e795-779e8c02.txt']\n",
      "['/home/intern/workspace/jp_workspace/Object-Detection-Metrics/groundtruths/b62279e2-257b5cc0.txt', '/home/intern/workspace/jp_workspace/Object-Detection-Metrics/groundtruths/be0a188d-c47bac51.txt', '/home/intern/workspace/jp_workspace/Object-Detection-Metrics/groundtruths/b7a8e795-779e8c02.txt']\n"
     ]
    }
   ],
   "source": [
    "print(detection_info_paths[:3])\n",
    "print(groundtruth_info_paths[:3])"
   ]
  },
  {
   "cell_type": "code",
   "execution_count": 15,
   "metadata": {},
   "outputs": [],
   "source": [
    "classes_path = '/home/intern/workspace/jp_workspace/keras-YOLOv3-mobilenet/model_data/uber_classes2.txt'"
   ]
  },
  {
   "cell_type": "code",
   "execution_count": 16,
   "metadata": {},
   "outputs": [],
   "source": [
    "list_detection_info = extract_detection_info(detection_info_paths)\n",
    "list_groundtruth_info = extract_groundtruth_info(groundtruth_info_paths)"
   ]
  },
  {
   "cell_type": "code",
   "execution_count": 17,
   "metadata": {},
   "outputs": [
    {
     "name": "stdout",
     "output_type": "stream",
     "text": [
      "[['b62279e2-257b5cc0', 'car', '0.78574175', '396.0', '316.0', '559.0', '448.0'], ['b62279e2-257b5cc0', 'car', '0.79390377', '612.0', '329.0', '631.0', '352.0']]\n",
      "[['b62279e2-257b5cc0', 'car', '523.233938', '329.617779', '589.471049', '397.618618'], ['b62279e2-257b5cc0', 'car', '624.549268', '329.617779', '634.34766', '336.47665']]\n"
     ]
    }
   ],
   "source": [
    "print(list_detection_info[:2])\n",
    "print(list_groundtruth_info[:2])"
   ]
  },
  {
   "cell_type": "code",
   "execution_count": 18,
   "metadata": {},
   "outputs": [],
   "source": [
    "with open(classes_path) as f:\n",
    "    class_names = f.readlines()\n",
    "class_names = [name.strip() for name in class_names]"
   ]
  },
  {
   "cell_type": "code",
   "execution_count": 19,
   "metadata": {},
   "outputs": [],
   "source": [
    "dict_classified_by_class_detection = classified_by_class(list_detection_info, class_names)\n",
    "dict_classified_by_class_groundtruth = classified_by_class(list_groundtruth_info, class_names)"
   ]
  },
  {
   "cell_type": "code",
   "execution_count": 30,
   "metadata": {},
   "outputs": [
    {
     "name": "stdout",
     "output_type": "stream",
     "text": [
      "truck: 1315\n",
      "bike: 84\n",
      "bus: 388\n",
      "car: 47968\n",
      "motor: 59\n",
      "person: 4327\n",
      "rider: 69\n",
      "trafficlight: 7935\n",
      "trafficsign: 11231\n",
      "train: 0\n",
      "plot save\n"
     ]
    }
   ],
   "source": [
    "data_distribution(dict_classified_by_class_detection, class_names)"
   ]
  },
  {
   "cell_type": "code",
   "execution_count": 33,
   "metadata": {},
   "outputs": [
    {
     "name": "stdout",
     "output_type": "stream",
     "text": [
      "['truck', 'bike', 'bus', 'car', 'motor', 'person', 'rider', 'trafficlight', 'trafficsign', 'train']\n"
     ]
    }
   ],
   "source": [
    "print(class_names)"
   ]
  },
  {
   "cell_type": "code",
   "execution_count": 35,
   "metadata": {},
   "outputs": [],
   "source": [
    "x=['truck', 'bike', 'bus', 'car', 'motor', 'person', 'rider', 'trafficlight', 'trafficsign', 'train']\n",
    "y=[886,58,290,26328,30,2010,41,3092,4630,0]\n",
    "\n",
    "\n",
    "\n",
    "fig = plt.figure(figsize=(10, 10))\n",
    "pos = np.arange(len(class_names))\n",
    "rects = plt.bar(pos, y, align='center')\n",
    "plt.xticks(pos, x)\n",
    "plt.title(\"data distribution\")\n",
    "plt.xlabel(\"class\")\n",
    "plt.ylabel(\"count\")\n",
    "plt.legend()\n",
    "fig.savefig(\"./results_jp/{}.png\".format('data_distribution2'))"
   ]
  },
  {
   "cell_type": "code",
   "execution_count": 21,
   "metadata": {},
   "outputs": [],
   "source": [
    "sort_dict_classified_by_class_detection = sort_by_score_detection(dict_classified_by_class_detection,class_names)"
   ]
  },
  {
   "cell_type": "code",
   "execution_count": 22,
   "metadata": {},
   "outputs": [
    {
     "name": "stdout",
     "output_type": "stream",
     "text": [
      "73376\n"
     ]
    }
   ],
   "source": [
    "sum=0\n",
    "for c in class_names:\n",
    "    sum+=len(sort_dict_classified_by_class_detection[c])\n",
    "print(sum)"
   ]
  },
  {
   "cell_type": "code",
   "execution_count": 32,
   "metadata": {},
   "outputs": [
    {
     "name": "stdout",
     "output_type": "stream",
     "text": [
      "truck 886 1315 3125\n",
      "bike 58 84 751\n",
      "bus 290 388 1156\n",
      "car 26328 47968 57833\n",
      "motor 30 59 329\n",
      "person 2010 4327 9366\n",
      "rider 41 69 478\n",
      "trafficlight 3092 7935 12867\n",
      "trafficsign 4630 11231 19475\n",
      "train 0 0 8\n",
      "37365 73376 105388\n"
     ]
    }
   ],
   "source": [
    "dict_cal_ap = cal_ap(sort_dict_classified_by_class_detection, dict_classified_by_class_groundtruth, class_names)"
   ]
  },
  {
   "cell_type": "code",
   "execution_count": 225,
   "metadata": {},
   "outputs": [
    {
     "name": "stdout",
     "output_type": "stream",
     "text": [
      "plot save\n",
      "plot save\n",
      "plot save\n",
      "plot save\n",
      "plot save\n",
      "plot save\n",
      "plot save\n",
      "plot save\n",
      "plot save\n",
      "plot save\n"
     ]
    }
   ],
   "source": [
    "for class_name in class_names:\n",
    "    make_plot(dict_cal_ap13[class_name], class_name)"
   ]
  },
  {
   "cell_type": "code",
   "execution_count": 27,
   "metadata": {},
   "outputs": [
    {
     "name": "stdout",
     "output_type": "stream",
     "text": [
      "truck: 0.24835139912572335\n",
      "bike: 0.06489059773063029\n",
      "bus: 0.22773677903992584\n",
      "car: 0.3497494310223125\n",
      "motor: 0.054078924768402994\n",
      "person: 0.14247926334974628\n",
      "rider: 0.06927576755757468\n",
      "trafficlight: 0.13419619544889505\n",
      "trafficsign: 0.15671452157682939\n",
      "train: 0\n",
      "mAP:  0.14474728796200403\n"
     ]
    }
   ],
   "source": [
    "mAP=0\n",
    "for class_name in class_names:\n",
    "    mAP+=cal_area(dict_cal_ap[class_name], class_name)\n",
    "    \n",
    "print(\"mAP: \", mAP/len(class_names))"
   ]
  },
  {
   "cell_type": "code",
   "execution_count": null,
   "metadata": {},
   "outputs": [],
   "source": []
  }
 ],
 "metadata": {
  "kernelspec": {
   "display_name": "Python 3",
   "language": "python",
   "name": "python3"
  },
  "language_info": {
   "codemirror_mode": {
    "name": "ipython",
    "version": 3
   },
   "file_extension": ".py",
   "mimetype": "text/x-python",
   "name": "python",
   "nbconvert_exporter": "python",
   "pygments_lexer": "ipython3",
   "version": "3.5.2"
  }
 },
 "nbformat": 4,
 "nbformat_minor": 2
}
